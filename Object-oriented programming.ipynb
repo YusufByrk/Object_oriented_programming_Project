{
 "cells": [
  {
   "cell_type": "code",
   "execution_count": 59,
   "id": "5949d8be-77a3-4b8a-8bf1-9f78acff65d0",
   "metadata": {},
   "outputs": [],
   "source": []
  },
  {
   "cell_type": "code",
   "execution_count": 1,
   "id": "b566c01d-c732-44a9-bc92-ea879ccd3a93",
   "metadata": {},
   "outputs": [],
   "source": [
    "\n",
    "# erstellen Person classen als mutterklasse\n",
    "class Person():\n",
    "    def __init__(self, name):\n",
    "        self.name = name\n",
    "\n",
    "# Vorstellung funktion für Personklasse\n",
    "    def vorstellen(self):\n",
    "        print(f\"Hallo, mein Name ist {self.name}\")\n",
    "              \n",
    "# erstellen Student classen als kindklasse\n",
    "class Student(Person):\n",
    "    def __init__(self, name, grund):\n",
    "        super().__init__(name)\n",
    "        self.grund = grund\n",
    "# Grund funktion für Stutentklacsse              \n",
    "    def zeig_grund(self):\n",
    "        print(f\"Der Grund, warum {self.name} den Kurs besucht hat: {self.grund}\")\n",
    "\n",
    "# erstellen Dozent classen als Kindklasse        \n",
    "class Dozent(Person):\n",
    "    def __init__(self, name, bio, skills = []):\n",
    "        super().__init__(name)\n",
    "        self.bio = bio\n",
    "        self.skills = skills\n",
    "\n",
    "# add_Skill funktion für skills hinzufügen         \n",
    "    def add_skills(self, skill):\n",
    "        self.skills.append(skill)\n",
    "        \n",
    "# Biography funktion für Dozentklasse\n",
    "    def biography(self):\n",
    "        print(self.bio)\n",
    "\n",
    "# zeig_skill funktion für skills von Dozenten zeigen\n",
    "    def zeig_skill(self):\n",
    "        print(self.skills)\n",
    "              \n"
   ]
  },
  {
   "cell_type": "code",
   "execution_count": 2,
   "id": "3b390780-fb78-4e04-8a2d-f0df1c191770",
   "metadata": {},
   "outputs": [
    {
     "name": "stdout",
     "output_type": "stream",
     "text": [
      "Hallo, mein Name ist Yusuf\n"
     ]
    }
   ],
   "source": [
    "yusuf = Person(\"Yusuf\")\n",
    "yusuf.vorstellen()"
   ]
  },
  {
   "cell_type": "code",
   "execution_count": 3,
   "id": "64912e3c-1e33-4de6-ab61-f671fa020f60",
   "metadata": {},
   "outputs": [
    {
     "name": "stdout",
     "output_type": "stream",
     "text": [
      "Hallo, mein Name ist Yusuf\n"
     ]
    }
   ],
   "source": [
    "student =  Student(\"Yusuf\", \"möchte DataScientist werden\")\n",
    "student.vorstellen()"
   ]
  },
  {
   "cell_type": "code",
   "execution_count": 4,
   "id": "14755f3d-a864-4b52-9749-f08dbebe01c1",
   "metadata": {},
   "outputs": [
    {
     "name": "stdout",
     "output_type": "stream",
     "text": [
      "Der Grund, warum Yusuf den Kurs besucht hat: möchte DataScientist werden\n"
     ]
    }
   ],
   "source": [
    "student.zeig_grund()"
   ]
  },
  {
   "cell_type": "code",
   "execution_count": 5,
   "id": "388b2e3e-30af-4c53-9423-f9898f4cec49",
   "metadata": {},
   "outputs": [
    {
     "name": "stdout",
     "output_type": "stream",
     "text": [
      "Hallo, mein Name ist Pascal\n"
     ]
    }
   ],
   "source": [
    "pascal = Dozent(\"Pascal\", \"Ich codiere mit Python und liebe die Lehre\", [\"python\"]) \n",
    "pascal.vorstellen()"
   ]
  },
  {
   "cell_type": "code",
   "execution_count": 6,
   "id": "94fb38c5-fef2-467b-8327-e2b2fe490a23",
   "metadata": {},
   "outputs": [
    {
     "name": "stdout",
     "output_type": "stream",
     "text": [
      "['python']\n"
     ]
    }
   ],
   "source": [
    "pascal.zeig_skill()"
   ]
  },
  {
   "cell_type": "code",
   "execution_count": 7,
   "id": "4bb2fee7-27dc-412b-b320-10f39d9dd6ed",
   "metadata": {},
   "outputs": [
    {
     "name": "stdout",
     "output_type": "stream",
     "text": [
      "Ich codiere mit Python und liebe die Lehre\n"
     ]
    }
   ],
   "source": [
    "pascal.biography()"
   ]
  },
  {
   "cell_type": "code",
   "execution_count": 8,
   "id": "8ad6faee-08fa-49a3-8331-8df5d3eacfa0",
   "metadata": {},
   "outputs": [
    {
     "name": "stdout",
     "output_type": "stream",
     "text": [
      "['python', 'Java']\n"
     ]
    }
   ],
   "source": [
    "pascal.add_skills(\"Java\")\n",
    "pascal.zeig_skill()"
   ]
  },
  {
   "cell_type": "markdown",
   "id": "fab3dd72-87a9-4b7d-b17e-623c01bc24e6",
   "metadata": {},
   "source": [
    "***"
   ]
  },
  {
   "cell_type": "code",
   "execution_count": 9,
   "id": "1ba56451-9cef-47d7-9089-2aff8b0efd00",
   "metadata": {},
   "outputs": [],
   "source": [
    "# Workshop classen erstlellen"
   ]
  },
  {
   "cell_type": "code",
   "execution_count": 10,
   "id": "39a31e87-9bda-4625-9056-f619f43c7b13",
   "metadata": {},
   "outputs": [],
   "source": [
    "class Workshop():\n",
    "    def __init__(self, start_date, end_date, thema):\n",
    "        self.start_date = start_date\n",
    "        self.end_date = end_date\n",
    "        self.thema = thema\n",
    "        self.dozenten = []\n",
    "        self.studenten = []\n",
    "\n",
    "        # add_participants funktion für teilnehmer hinzufügen\n",
    "    def add_participants(self, person):\n",
    "        if isinstance(person, Dozent):\n",
    "            self.dozenten.append(person)\n",
    "        elif isinstance(person, Student):\n",
    "            self.studenten.append(person)\n",
    "        else:\n",
    "            print(f\"{person.name} ist kein gültiger Teilnehmer für diesen Workshop. Weil die Person nicht Dozent oder Student\" )\n",
    "            \n",
    "      # show_participants funktion welche teilnehmer gibt      \n",
    "    def show_participants(self):\n",
    "        print(\"Dozenten:\")\n",
    "        for dozent in self.dozenten:\n",
    "            print(f\"- {dozent.name}\")\n",
    "        print(\"Studenten:\")\n",
    "        for student in self.studenten:\n",
    "            print(f\"- {student.name}\")  "
   ]
  },
  {
   "cell_type": "code",
   "execution_count": 11,
   "id": "7345a838-3c4c-4776-9180-36243e5effd5",
   "metadata": {},
   "outputs": [],
   "source": [
    "ws = Workshop(\"2022-01-01\", \"2022-02-01\", \"Python\")\n",
    "d1 = Dozent(\"Lisa\", \"Ich bin ein Dozent, bringe die schüller Python bei.\", [\"Python\", \"Java\"])\n",
    "d2 = Dozent(\"Pascal\", \"Ich forsche im Bereich ML.\", [\"ML\"])\n",
    "s1 = Student(\"Ahmet\", \"Ich möchte an diesem Workshop teilnehmen, um meine Fähigkeiten in Python zu verbessern.\")\n",
    "s2 = Student(\"Yusuf\", \"Ich bin an Machine Learning interessiert und möchte an diesem Workshop teilnehmen, um mehr darüber zu erfahren.\")\n",
    "\n",
    "ws.add_participants(d1)\n",
    "ws.add_participants(d2)\n",
    "ws.add_participants(s1)\n",
    "ws.add_participants(s2)"
   ]
  },
  {
   "cell_type": "code",
   "execution_count": 12,
   "id": "3b0644bf-c24d-440c-a68a-2bda8a1717a2",
   "metadata": {},
   "outputs": [
    {
     "name": "stdout",
     "output_type": "stream",
     "text": [
      "Dozenten:\n",
      "- Lisa\n",
      "- Pascal\n",
      "Studenten:\n",
      "- Ahmet\n",
      "- Yusuf\n"
     ]
    }
   ],
   "source": [
    "ws.show_participants()"
   ]
  },
  {
   "cell_type": "code",
   "execution_count": 13,
   "id": "9d5f38bc-ef4c-48b8-aef3-3c8d3d0a0bf7",
   "metadata": {},
   "outputs": [
    {
     "name": "stdout",
     "output_type": "stream",
     "text": [
      "Dozenten:\n",
      "- Lisa\n",
      "- Pascal\n",
      "Studenten:\n",
      "- Ahmet\n",
      "- Yusuf\n",
      "- Peter\n"
     ]
    }
   ],
   "source": [
    "peter = Student(\"Peter\", \"Ich will Python lernen\")\n",
    "ws.add_participants(peter)\n",
    "ws.show_participants()"
   ]
  },
  {
   "cell_type": "code",
   "execution_count": 14,
   "id": "7a6a87f0-00d0-402f-ae94-a819f724e4d3",
   "metadata": {},
   "outputs": [
    {
     "name": "stdout",
     "output_type": "stream",
     "text": [
      "['Python', 'Java', 'Küntzliche Intelligenz']\n"
     ]
    }
   ],
   "source": [
    "d1.add_skills(\"Küntzliche Intelligenz\")\n",
    "d1.zeig_skill()"
   ]
  },
  {
   "cell_type": "code",
   "execution_count": 15,
   "id": "a4318f58-825d-4444-91aa-c4d44e19fc5c",
   "metadata": {},
   "outputs": [
    {
     "name": "stdout",
     "output_type": "stream",
     "text": [
      "Bob ist kein gültiger Teilnehmer für diesen Workshop. Weil die Person nicht Dozent oder Student\n"
     ]
    }
   ],
   "source": [
    "person_neu = Person(\"Bob\")\n",
    "ws.add_participants(person_neu)"
   ]
  },
  {
   "cell_type": "code",
   "execution_count": null,
   "id": "22d9fafe-e713-4eb2-b98a-8ef7d10a90d4",
   "metadata": {},
   "outputs": [],
   "source": []
  },
  {
   "cell_type": "markdown",
   "id": "66f58ed6-ce5f-4646-accc-f88d34c679cb",
   "metadata": {},
   "source": [
    "***"
   ]
  },
  {
   "cell_type": "code",
   "execution_count": 68,
   "id": "58640345-c618-4caa-885e-ee34b2a164e8",
   "metadata": {},
   "outputs": [],
   "source": [
    "# Erstelle eine Funktion print_members, die die Informationen aller Studenten in einem DataFrame und aller Dozenten in einem zweiten DataFrame darstellt. "
   ]
  },
  {
   "cell_type": "code",
   "execution_count": 16,
   "id": "fb8bd9d6-4c93-42fb-89e4-1d9e0230bda4",
   "metadata": {},
   "outputs": [],
   "source": [
    "def print_members(workshop):\n",
    "    import pandas as pd\n",
    "    students = []\n",
    "    dozents = []\n",
    "    \n",
    "    for w_shop in workshop:\n",
    "        for student in w_shop.studenten:\n",
    "            students.append((student.name, student.grund))\n",
    "        for dozent in w_shop.dozenten:\n",
    "            dozents.append((dozent.name, dozent.bio, dozent.skills))\n",
    "            \n",
    "    df_students = pd.DataFrame(students, columns=[\"Name\", \"Reason\"])\n",
    "    df_dozents = pd.DataFrame(dozents, columns=[\"Name\", \"Bio\", \"Skills\"])\n",
    "    \n",
    "    print(f\"Students:\\n{df_students}\\n\\n\")\n",
    "    print(f\"Dozents:\\n{df_dozents}\")"
   ]
  },
  {
   "cell_type": "code",
   "execution_count": 10,
   "id": "aa7d7373-7ade-4561-a2d2-dbcffe8a4162",
   "metadata": {},
   "outputs": [],
   "source": [
    "# Erstelle eine Funktion print_workshops, die alle Informationen eines Workshops darstellt. "
   ]
  },
  {
   "cell_type": "code",
   "execution_count": 17,
   "id": "b0d25179-8061-4cbc-ab87-b3feac4904b1",
   "metadata": {},
   "outputs": [],
   "source": [
    "def print_workshops(workshops):\n",
    "    for w_shop in workshops:\n",
    "        print(f\"Workshop: {w_shop.thema}\\n\\\n",
    "        Start date: {w_shop.start_date}\\n\\\n",
    "        End date: {w_shop.end_date}\\n\\\n",
    "        Participants:\\n{w_shop.show_participants()}\")"
   ]
  },
  {
   "cell_type": "code",
   "execution_count": 12,
   "id": "07d49e8e-fcad-4eb5-a6cb-2f8ac68b42c1",
   "metadata": {},
   "outputs": [],
   "source": [
    "# Erstelle eine Funktion print_details, die beide obigen Funktionen zusammen durchführt. "
   ]
  },
  {
   "cell_type": "code",
   "execution_count": 18,
   "id": "cf0f7c24-decf-4edd-9511-9d24b3021370",
   "metadata": {},
   "outputs": [],
   "source": [
    "def print_details(workshops):\n",
    "    print_members(workshops)\n",
    "    print_workshops(workshops)"
   ]
  },
  {
   "cell_type": "markdown",
   "id": "12ae6588-a289-4ca6-9474-ac8c555433a6",
   "metadata": {},
   "source": [
    "***"
   ]
  },
  {
   "cell_type": "code",
   "execution_count": 19,
   "id": "6c0c47bf-fbc7-4a0d-8a42-ac99e2908d93",
   "metadata": {},
   "outputs": [],
   "source": [
    "w1 = Workshop(\"2022-01-11\", \"2022-01-18\", \"Python\")\n",
    "w2 = Workshop(\"2022-03-01\", \"2022-03-10\", \"Machine Learning\")\n",
    "\n",
    "d1 = Dozent(\"Janna\", \"Ich bin ein erfahrener Dozent in HTML.\", [\"HTML\"])\n",
    "d2 = Dozent(\"Stephan\", \"Ich habe jahrelange Erfahrung als Dozent.\", [\"C++\"])\n",
    "s1 = Student(\"Nora\", \"Ich möchte an diesem Workshop teilnehmen für Python zu lernen.\")\n",
    "s2 = Student(\"Yusuf\", \"Ich möchte an diesem Workshop teilnehmen, um HTML zu lernen.\")\n",
    "\n",
    "w1.add_participants(d1)\n",
    "w1.add_participants(d2)\n",
    "w1.add_participants(s1)\n",
    "w1.add_participants(s2)\n",
    "\n",
    "w2.add_participants(d1)\n",
    "w2.add_participants(d2)\n",
    "w2.add_participants(s1)\n",
    "w2.add_participants(s2)"
   ]
  },
  {
   "cell_type": "code",
   "execution_count": 25,
   "id": "37c078e1-a658-4ab8-8a63-058e2cfd755f",
   "metadata": {},
   "outputs": [
    {
     "name": "stdout",
     "output_type": "stream",
     "text": [
      "Dozenten:\n",
      "- Janna\n",
      "- Stephan\n",
      "Studenten:\n",
      "- Nora\n",
      "- Yusuf\n",
      "Workshop: Python\n",
      "        Start date: 2022-01-11\n",
      "        End date: 2022-01-18\n",
      "        Participants:\n",
      "None\n",
      "Dozenten:\n",
      "- Janna\n",
      "- Stephan\n",
      "Studenten:\n",
      "- Nora\n",
      "- Yusuf\n",
      "Workshop: Machine Learning\n",
      "        Start date: 2022-03-01\n",
      "        End date: 2022-03-10\n",
      "        Participants:\n",
      "None\n"
     ]
    }
   ],
   "source": [
    "print_workshops([w1, w2])"
   ]
  },
  {
   "cell_type": "code",
   "execution_count": 26,
   "id": "d41d039b-dfa5-4fc5-8faa-74aa90f240f9",
   "metadata": {},
   "outputs": [
    {
     "name": "stdout",
     "output_type": "stream",
     "text": [
      "Students:\n",
      "    Name                                             Reason\n",
      "0   Nora  Ich möchte an diesem Workshop teilnehmen für P...\n",
      "1  Yusuf  Ich möchte an diesem Workshop teilnehmen, um H...\n",
      "2   Nora  Ich möchte an diesem Workshop teilnehmen für P...\n",
      "3  Yusuf  Ich möchte an diesem Workshop teilnehmen, um H...\n",
      "\n",
      "\n",
      "Dozents:\n",
      "      Name                                        Bio  Skills\n",
      "0    Janna     Ich bin ein erfahrener Dozent in HTML.  [HTML]\n",
      "1  Stephan  Ich habe jahrelange Erfahrung als Dozent.   [C++]\n",
      "2    Janna     Ich bin ein erfahrener Dozent in HTML.  [HTML]\n",
      "3  Stephan  Ich habe jahrelange Erfahrung als Dozent.   [C++]\n",
      "Dozenten:\n",
      "- Janna\n",
      "- Stephan\n",
      "Studenten:\n",
      "- Nora\n",
      "- Yusuf\n",
      "Workshop: Python\n",
      "        Start date: 2022-01-11\n",
      "        End date: 2022-01-18\n",
      "        Participants:\n",
      "None\n",
      "Dozenten:\n",
      "- Janna\n",
      "- Stephan\n",
      "Studenten:\n",
      "- Nora\n",
      "- Yusuf\n",
      "Workshop: Machine Learning\n",
      "        Start date: 2022-03-01\n",
      "        End date: 2022-03-10\n",
      "        Participants:\n",
      "None\n"
     ]
    }
   ],
   "source": [
    "print_details([w1, w2])"
   ]
  },
  {
   "cell_type": "code",
   "execution_count": 27,
   "id": "61e2f9e4-7bd2-4426-b2eb-ce42a358b600",
   "metadata": {},
   "outputs": [
    {
     "name": "stdout",
     "output_type": "stream",
     "text": [
      "Students:\n",
      "    Name                                             Reason\n",
      "0   Nora  Ich möchte an diesem Workshop teilnehmen für P...\n",
      "1  Yusuf  Ich möchte an diesem Workshop teilnehmen, um H...\n",
      "2   Nora  Ich möchte an diesem Workshop teilnehmen für P...\n",
      "3  Yusuf  Ich möchte an diesem Workshop teilnehmen, um H...\n",
      "\n",
      "\n",
      "Dozents:\n",
      "      Name                                        Bio  Skills\n",
      "0    Janna     Ich bin ein erfahrener Dozent in HTML.  [HTML]\n",
      "1  Stephan  Ich habe jahrelange Erfahrung als Dozent.   [C++]\n",
      "2    Janna     Ich bin ein erfahrener Dozent in HTML.  [HTML]\n",
      "3  Stephan  Ich habe jahrelange Erfahrung als Dozent.   [C++]\n",
      "None\n"
     ]
    }
   ],
   "source": [
    "print(print_members([w1, w2]))"
   ]
  },
  {
   "cell_type": "code",
   "execution_count": null,
   "id": "d5bad7bc-a491-4a4f-aaa2-dcf4ded928bd",
   "metadata": {},
   "outputs": [],
   "source": []
  }
 ],
 "metadata": {
  "kernelspec": {
   "display_name": "Python 3 (ipykernel)",
   "language": "python",
   "name": "python3"
  },
  "language_info": {
   "codemirror_mode": {
    "name": "ipython",
    "version": 3
   },
   "file_extension": ".py",
   "mimetype": "text/x-python",
   "name": "python",
   "nbconvert_exporter": "python",
   "pygments_lexer": "ipython3",
   "version": "3.9.15"
  }
 },
 "nbformat": 4,
 "nbformat_minor": 5
}
